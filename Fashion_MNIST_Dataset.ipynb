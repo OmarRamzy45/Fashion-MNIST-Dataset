{
  "nbformat": 4,
  "nbformat_minor": 0,
  "metadata": {
    "colab": {
      "name": "Fashion_MNIST_Dataset.ipynb",
      "provenance": [],
      "collapsed_sections": []
    },
    "kernelspec": {
      "name": "python3",
      "display_name": "Python 3"
    },
    "language_info": {
      "name": "python"
    }
  },
  "cells": [
    {
      "cell_type": "code",
      "execution_count": null,
      "metadata": {
        "id": "o91bpEX0oDyD"
      },
      "outputs": [],
      "source": [
        "import tensorflow as tf\n",
        "\n",
        "#importing data\n",
        "image_data = tf.keras.datasets.fashion_mnist"
      ]
    },
    {
      "cell_type": "code",
      "source": [
        "#creating two tuples one for testing data and one for training data\n",
        "(train_images,train_labels),(test_images,test_labels) =  image_data.load_data()\n",
        "\n",
        "#showing example of train data by plot and label\n",
        "import matplotlib.pyplot as plt\n",
        "plt.imshow(test_images[30])\n",
        "print(\"Image label: \",test_labels[30])\n",
        "\n",
        "#data factorization to convert all data to be in range of zero to one\n",
        "train_images = train_images / 255.0\n",
        "test_images = test_images / 255.0\n"
      ],
      "metadata": {
        "id": "woM3CSd-oTZP",
        "colab": {
          "base_uri": "https://localhost:8080/",
          "height": 282
        },
        "outputId": "a79f2717-d6e0-4545-ba2a-5ed667e2cda9"
      },
      "execution_count": null,
      "outputs": [
        {
          "output_type": "stream",
          "name": "stdout",
          "text": [
            "Image label:  8\n"
          ]
        },
        {
          "output_type": "display_data",
          "data": {
            "text/plain": [
              "<Figure size 432x288 with 1 Axes>"
            ],
            "image/png": "[encoded data removed]"
          },
          "metadata": {
            "needs_background": "light"
          }
        }
      ]
    },
    {
      "cell_type": "code",
      "source": [
        "from tensorflow.python.ops.control_flow_ops import from_control_flow_context_def\n",
        "#Using fn inside Keras called sequential to create a feed forward neural network\n",
        "model = tf.keras.Sequential([\n",
        "                             \n",
        "# Reshaping Data into 1d array given input data shape (28 x 28)\n",
        "    tf.keras.layers.Flatten(input_shape=(28,28)),\n",
        "\n",
        "# 128 and activiation function (relu) are recomended from tensorflow website\n",
        "\n",
        "     tf.keras.layers.Dense(128,activation=\"relu\"),\n",
        "\n",
        "# to show the result of the calculation we want 10 outputs to classify the data\n",
        "# to a specific kind of clothes of the given 10 kinds\n",
        "     tf.keras.layers.Dense(10)\n",
        "])\n",
        "\n",
        "#the upcoming lines is for calculating losses in the networking or \n",
        "# how well network is doing and optimizing it using adam (from tensorflow website)\n",
        "model.compile(optimizer=\"adam\", \n",
        "              loss=tf.losses.SparseCategoricalCrossentropy(from_logits=True),\n",
        "              metrics = [\"accuracy\"]\n",
        "              )\n",
        "# epochs is for number of repeating the training of model for optimizing accuracy\n",
        "model.fit(train_images,train_labels,epochs=10)"
      ],
      "metadata": {
        "id": "GGkgRvC1u40k"
      },
      "execution_count": null,
      "outputs": []
    },
    {
      "cell_type": "code",
      "source": [
        "model.predict(test_images)[30]"
      ],
      "metadata": {
        "colab": {
          "base_uri": "https://localhost:8080/"
        },
        "id": "ShIhENcpp_hC",
        "outputId": "e0b36f1c-ea74-4705-fe77-11a429c61b2f"
      },
      "execution_count": null,
      "outputs": [
        {
          "output_type": "execute_result",
          "data": {
            "text/plain": [
              "array([ -9.860824 , -23.884134 , -13.354528 , -13.688255 ,  -7.4198155,\n",
              "       -13.888153 , -15.832164 ,  -6.01807  ,  19.030949 , -12.643608 ],\n",
              "      dtype=float32)"
            ]
          },
          "metadata": {},
          "execution_count": 42
        }
      ]
    }
  ]
}